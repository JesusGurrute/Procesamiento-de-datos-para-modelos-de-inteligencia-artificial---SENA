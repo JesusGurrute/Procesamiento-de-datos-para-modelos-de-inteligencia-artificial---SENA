{
 "cells": [
  {
   "cell_type": "markdown",
   "id": "d94a7737",
   "metadata": {},
   "source": [
    "1. Programa En PYTHON que muestre los números del 1 al 100 con for y while."
   ]
  },
  {
   "cell_type": "code",
   "execution_count": null,
   "id": "347c8708",
   "metadata": {},
   "outputs": [],
   "source": [
    "for i in range(1,101):\n",
    "    print(i)"
   ]
  },
  {
   "cell_type": "code",
   "execution_count": null,
   "id": "0415cc38",
   "metadata": {},
   "outputs": [],
   "source": [
    "i=1\n",
    "while(i<101):\n",
    "    print(i)\n",
    "    i=i+1"
   ]
  },
  {
   "cell_type": "markdown",
   "id": "377ad340",
   "metadata": {},
   "source": [
    "2. Programa En PYTHON que muestre los números del 0 al -100 con for y while.\n"
   ]
  },
  {
   "cell_type": "code",
   "execution_count": null,
   "id": "9378ea54",
   "metadata": {},
   "outputs": [],
   "source": [
    "for i in range (0,-100, -1):\n",
    "    print(i)"
   ]
  },
  {
   "cell_type": "code",
   "execution_count": null,
   "id": "9b5df94f",
   "metadata": {},
   "outputs": [],
   "source": [
    "i = 0\n",
    "while(i>=-100):\n",
    "    print(f\"-> {i}\")\n",
    "    i = i-1    \n",
    "    "
   ]
  },
  {
   "cell_type": "markdown",
   "id": "6ee37828",
   "metadata": {},
   "source": [
    "4. Construir un programa que visualice por pantalla todos los caracteres\n",
    "correspondientes a letras minúsculas."
   ]
  },
  {
   "cell_type": "code",
   "execution_count": null,
   "id": "a42fd1d0",
   "metadata": {},
   "outputs": [
    {
     "name": "stdout",
     "output_type": "stream",
     "text": [
      "La letra en la posición s es \n",
      "La letra en la posición a es \n",
      "La letra en la posición n es \n",
      "La letra en la posición t es \n",
      "La letra en la posición i es \n",
      "La letra en la posición a es \n",
      "La letra en la posición g es \n",
      "La letra en la posición o es \n"
     ]
    }
   ],
   "source": [
    "palabra = input(\"ingrese una palabra\")\n",
    "for i in palabra:\n",
    "    print(f\"La letra en la posición {i} es {i} \")"
   ]
  },
  {
   "cell_type": "markdown",
   "id": "58a53b61",
   "metadata": {},
   "source": [
    "5. Construir un programa que calcule la factorial de un valor numérico introducido\n",
    "como parámetro o argumento en la línea de comandos."
   ]
  },
  {
   "cell_type": "code",
   "execution_count": null,
   "id": "696615b3",
   "metadata": {},
   "outputs": [],
   "source": [
    "factorial =int(input(\"Ingrese un número positivo: \"))\n",
    "if (factorial <= 0):\n",
    "    print(\"El número no es válido\")\n",
    "else:\n",
    "    fact =1\n",
    "    for i in range (1, factorial):\n",
    "        fact = fact*i\n",
    "    print(f\"El factorial de {factorial} es {fact}\")    "
   ]
  },
  {
   "cell_type": "markdown",
   "id": "a38f8c24",
   "metadata": {},
   "source": [
    "6. Construir un programa que calcule y visualice por pantalla la factorial de todos los\n",
    "valores numéricos enteros entre 1 y 10."
   ]
  },
  {
   "cell_type": "code",
   "execution_count": 51,
   "id": "dc70b561",
   "metadata": {},
   "outputs": [
    {
     "name": "stdout",
     "output_type": "stream",
     "text": [
      "El factorial de 1 es 1\n",
      "El factorial de 2 es 2\n",
      "El factorial de 3 es 6\n",
      "El factorial de 4 es 24\n",
      "El factorial de 5 es 120\n",
      "El factorial de 6 es 720\n",
      "El factorial de 7 es 5040\n",
      "El factorial de 8 es 40320\n",
      "El factorial de 9 es 362880\n",
      "El factorial de 10 es 3628800\n"
     ]
    }
   ],
   "source": [
    "for j  in range (1,11):\n",
    "    factorial =j\n",
    "    #print(f\"Se buscara el factorial de {factorial} \")\n",
    "    fact =1\n",
    "    for i in range (1, factorial+1):\n",
    "        fact = fact*i\n",
    "        #print(f\"aquí el calculo {i} = {fact}\")\n",
    "    print(f\"El factorial de {factorial} es {fact}\")  "
   ]
  },
  {
   "cell_type": "markdown",
   "id": "422a16db",
   "metadata": {},
   "source": [
    "7. Construir un programa para obtener un número par aleatorio menor que el que\n",
    "nosotros le digamos."
   ]
  },
  {
   "cell_type": "code",
   "execution_count": 6,
   "id": "0033a493",
   "metadata": {},
   "outputs": [
    {
     "ename": "TypeError",
     "evalue": "Random.randint() missing 2 required positional arguments: 'a' and 'b'",
     "output_type": "error",
     "traceback": [
      "\u001b[31m---------------------------------------------------------------------------\u001b[39m",
      "\u001b[31mTypeError\u001b[39m                                 Traceback (most recent call last)",
      "\u001b[36mCell\u001b[39m\u001b[36m \u001b[39m\u001b[32mIn[6]\u001b[39m\u001b[32m, line 4\u001b[39m\n\u001b[32m      1\u001b[39m \u001b[38;5;28;01mimport\u001b[39;00m\u001b[38;5;250m \u001b[39m\u001b[34;01mrandom\u001b[39;00m\n\u001b[32m      2\u001b[39m num = \u001b[38;5;28mint\u001b[39m(\u001b[38;5;28minput\u001b[39m(\u001b[33m\"\u001b[39m\u001b[33mIngrese un número par: \u001b[39m\u001b[33m\"\u001b[39m))\n\u001b[32m----> \u001b[39m\u001b[32m4\u001b[39m r = \u001b[43mrandom\u001b[49m\u001b[43m.\u001b[49m\u001b[43mrandint\u001b[49m\u001b[43m(\u001b[49m\u001b[43m)\u001b[49m\n\u001b[32m      5\u001b[39m bandera = \u001b[38;5;28;01mTrue\u001b[39;00m\n\u001b[32m      6\u001b[39m \u001b[38;5;28;01mwhile\u001b[39;00m (bandera ):\n",
      "\u001b[31mTypeError\u001b[39m: Random.randint() missing 2 required positional arguments: 'a' and 'b'"
     ]
    }
   ],
   "source": [
    "import random\n",
    "num = int(input(\"Ingrese un número par: \"))\n",
    "\n",
    "r = random.randint()\n",
    "bandera = True\n",
    "while (bandera ):\n",
    "    print(r)\n",
    "    if (r < num):\n",
    "        bandera = False\n",
    "print(f\"El número random generardo {r} es menor que {num}\")\n",
    " \n",
    "\n"
   ]
  },
  {
   "cell_type": "code",
   "execution_count": null,
   "id": "167d721c",
   "metadata": {},
   "outputs": [],
   "source": []
  },
  {
   "cell_type": "code",
   "execution_count": null,
   "id": "08a08cfc",
   "metadata": {},
   "outputs": [],
   "source": [
    " "
   ]
  }
 ],
 "metadata": {
  "kernelspec": {
   "display_name": "Python 3",
   "language": "python",
   "name": "python3"
  },
  "language_info": {
   "codemirror_mode": {
    "name": "ipython",
    "version": 3
   },
   "file_extension": ".py",
   "mimetype": "text/x-python",
   "name": "python",
   "nbconvert_exporter": "python",
   "pygments_lexer": "ipython3",
   "version": "3.13.2"
  }
 },
 "nbformat": 4,
 "nbformat_minor": 5
}
