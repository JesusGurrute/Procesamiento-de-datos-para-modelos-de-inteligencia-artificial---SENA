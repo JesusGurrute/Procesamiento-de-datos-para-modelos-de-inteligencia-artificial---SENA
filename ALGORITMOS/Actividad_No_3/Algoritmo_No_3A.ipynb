{
  "nbformat": 4,
  "nbformat_minor": 0,
  "metadata": {
    "colab": {
      "provenance": []
    },
    "kernelspec": {
      "name": "python3",
      "display_name": "Python 3"
    },
    "language_info": {
      "name": "python"
    }
  },
  "cells": [
    {
      "cell_type": "markdown",
      "source": [
        "TÉCNICO EN PROCESAMIENTO DE DATOS PARA MODELOS DE INTELIGENCIA ARTIFICIA -SENA  \n",
        "APERNDIZ: JESÚS ALIRIO GURRUTE CAMPO  \n",
        "CÓDIGO: 3175949"
      ],
      "metadata": {
        "id": "CtnTwAWeb-cC"
      }
    },
    {
      "cell_type": "markdown",
      "source": [
        "##Ejercicios Ciclos\n"
      ],
      "metadata": {
        "id": "Fb1bYZPSU66Q"
      }
    },
    {
      "cell_type": "markdown",
      "source": [
        "1. Programa En PYTHON que muestre los números del 1 al 100 con for y while."
      ],
      "metadata": {
        "id": "crbm5vucU90K"
      }
    },
    {
      "cell_type": "code",
      "source": [
        "for i in range (100):\n",
        "  print(i+1)"
      ],
      "metadata": {
        "colab": {
          "base_uri": "https://localhost:8080/"
        },
        "id": "rukCfSzQU4G2",
        "outputId": "fe82ab91-bb85-4ac9-974a-0a5435e64bfc"
      },
      "execution_count": null,
      "outputs": [
        {
          "output_type": "stream",
          "name": "stdout",
          "text": [
            "1\n",
            "2\n",
            "3\n",
            "4\n",
            "5\n",
            "6\n",
            "7\n",
            "8\n",
            "9\n",
            "10\n",
            "11\n",
            "12\n",
            "13\n",
            "14\n",
            "15\n",
            "16\n",
            "17\n",
            "18\n",
            "19\n",
            "20\n",
            "21\n",
            "22\n",
            "23\n",
            "24\n",
            "25\n",
            "26\n",
            "27\n",
            "28\n",
            "29\n",
            "30\n",
            "31\n",
            "32\n",
            "33\n",
            "34\n",
            "35\n",
            "36\n",
            "37\n",
            "38\n",
            "39\n",
            "40\n",
            "41\n",
            "42\n",
            "43\n",
            "44\n",
            "45\n",
            "46\n",
            "47\n",
            "48\n",
            "49\n",
            "50\n",
            "51\n",
            "52\n",
            "53\n",
            "54\n",
            "55\n",
            "56\n",
            "57\n",
            "58\n",
            "59\n",
            "60\n",
            "61\n",
            "62\n",
            "63\n",
            "64\n",
            "65\n",
            "66\n",
            "67\n",
            "68\n",
            "69\n",
            "70\n",
            "71\n",
            "72\n",
            "73\n",
            "74\n",
            "75\n",
            "76\n",
            "77\n",
            "78\n",
            "79\n",
            "80\n",
            "81\n",
            "82\n",
            "83\n",
            "84\n",
            "85\n",
            "86\n",
            "87\n",
            "88\n",
            "89\n",
            "90\n",
            "91\n",
            "92\n",
            "93\n",
            "94\n",
            "95\n",
            "96\n",
            "97\n",
            "98\n",
            "99\n",
            "100\n"
          ]
        }
      ]
    },
    {
      "cell_type": "code",
      "source": [
        "i = 1\n",
        "while (i<=100):\n",
        "  print(i)\n",
        "  i = i+1"
      ],
      "metadata": {
        "colab": {
          "base_uri": "https://localhost:8080/"
        },
        "id": "74Zlnec_yVek",
        "outputId": "57cc126c-99b6-4c0e-e754-01c115eb8d44"
      },
      "execution_count": null,
      "outputs": [
        {
          "output_type": "stream",
          "name": "stdout",
          "text": [
            "1\n",
            "2\n",
            "3\n",
            "4\n",
            "5\n",
            "6\n",
            "7\n",
            "8\n",
            "9\n",
            "10\n",
            "11\n",
            "12\n",
            "13\n",
            "14\n",
            "15\n",
            "16\n",
            "17\n",
            "18\n",
            "19\n",
            "20\n",
            "21\n",
            "22\n",
            "23\n",
            "24\n",
            "25\n",
            "26\n",
            "27\n",
            "28\n",
            "29\n",
            "30\n",
            "31\n",
            "32\n",
            "33\n",
            "34\n",
            "35\n",
            "36\n",
            "37\n",
            "38\n",
            "39\n",
            "40\n",
            "41\n",
            "42\n",
            "43\n",
            "44\n",
            "45\n",
            "46\n",
            "47\n",
            "48\n",
            "49\n",
            "50\n",
            "51\n",
            "52\n",
            "53\n",
            "54\n",
            "55\n",
            "56\n",
            "57\n",
            "58\n",
            "59\n",
            "60\n",
            "61\n",
            "62\n",
            "63\n",
            "64\n",
            "65\n",
            "66\n",
            "67\n",
            "68\n",
            "69\n",
            "70\n",
            "71\n",
            "72\n",
            "73\n",
            "74\n",
            "75\n",
            "76\n",
            "77\n",
            "78\n",
            "79\n",
            "80\n",
            "81\n",
            "82\n",
            "83\n",
            "84\n",
            "85\n",
            "86\n",
            "87\n",
            "88\n",
            "89\n",
            "90\n",
            "91\n",
            "92\n",
            "93\n",
            "94\n",
            "95\n",
            "96\n",
            "97\n",
            "98\n",
            "99\n",
            "100\n"
          ]
        }
      ]
    },
    {
      "cell_type": "markdown",
      "source": [
        "2. Programa En PYTHON que muestre los números del 0 al -100 con for y while."
      ],
      "metadata": {
        "id": "ce_F5iWWY2PB"
      }
    },
    {
      "cell_type": "code",
      "source": [
        "for i in range (0,-100,-1):\n",
        "  print(i)"
      ],
      "metadata": {
        "id": "SdfSC4wsY9BG",
        "colab": {
          "base_uri": "https://localhost:8080/"
        },
        "outputId": "3c484811-11bd-4615-81b5-e62c34906142"
      },
      "execution_count": null,
      "outputs": [
        {
          "output_type": "stream",
          "name": "stdout",
          "text": [
            "0\n",
            "-1\n",
            "-2\n",
            "-3\n",
            "-4\n",
            "-5\n",
            "-6\n",
            "-7\n",
            "-8\n",
            "-9\n",
            "-10\n",
            "-11\n",
            "-12\n",
            "-13\n",
            "-14\n",
            "-15\n",
            "-16\n",
            "-17\n",
            "-18\n",
            "-19\n",
            "-20\n",
            "-21\n",
            "-22\n",
            "-23\n",
            "-24\n",
            "-25\n",
            "-26\n",
            "-27\n",
            "-28\n",
            "-29\n",
            "-30\n",
            "-31\n",
            "-32\n",
            "-33\n",
            "-34\n",
            "-35\n",
            "-36\n",
            "-37\n",
            "-38\n",
            "-39\n",
            "-40\n",
            "-41\n",
            "-42\n",
            "-43\n",
            "-44\n",
            "-45\n",
            "-46\n",
            "-47\n",
            "-48\n",
            "-49\n",
            "-50\n",
            "-51\n",
            "-52\n",
            "-53\n",
            "-54\n",
            "-55\n",
            "-56\n",
            "-57\n",
            "-58\n",
            "-59\n",
            "-60\n",
            "-61\n",
            "-62\n",
            "-63\n",
            "-64\n",
            "-65\n",
            "-66\n",
            "-67\n",
            "-68\n",
            "-69\n",
            "-70\n",
            "-71\n",
            "-72\n",
            "-73\n",
            "-74\n",
            "-75\n",
            "-76\n",
            "-77\n",
            "-78\n",
            "-79\n",
            "-80\n",
            "-81\n",
            "-82\n",
            "-83\n",
            "-84\n",
            "-85\n",
            "-86\n",
            "-87\n",
            "-88\n",
            "-89\n",
            "-90\n",
            "-91\n",
            "-92\n",
            "-93\n",
            "-94\n",
            "-95\n",
            "-96\n",
            "-97\n",
            "-98\n",
            "-99\n"
          ]
        }
      ]
    },
    {
      "cell_type": "code",
      "source": [
        "i = 0\n",
        "while (i>=-100):\n",
        "  print(i)\n",
        "  i = i-1"
      ],
      "metadata": {
        "colab": {
          "base_uri": "https://localhost:8080/"
        },
        "id": "vXYE-twIksBf",
        "outputId": "05aa7437-c359-4dcc-d591-3b619d0d813d"
      },
      "execution_count": null,
      "outputs": [
        {
          "output_type": "stream",
          "name": "stdout",
          "text": [
            "0\n",
            "-1\n",
            "-2\n",
            "-3\n",
            "-4\n",
            "-5\n",
            "-6\n",
            "-7\n",
            "-8\n",
            "-9\n",
            "-10\n",
            "-11\n",
            "-12\n",
            "-13\n",
            "-14\n",
            "-15\n",
            "-16\n",
            "-17\n",
            "-18\n",
            "-19\n",
            "-20\n",
            "-21\n",
            "-22\n",
            "-23\n",
            "-24\n",
            "-25\n",
            "-26\n",
            "-27\n",
            "-28\n",
            "-29\n",
            "-30\n",
            "-31\n",
            "-32\n",
            "-33\n",
            "-34\n",
            "-35\n",
            "-36\n",
            "-37\n",
            "-38\n",
            "-39\n",
            "-40\n",
            "-41\n",
            "-42\n",
            "-43\n",
            "-44\n",
            "-45\n",
            "-46\n",
            "-47\n",
            "-48\n",
            "-49\n",
            "-50\n",
            "-51\n",
            "-52\n",
            "-53\n",
            "-54\n",
            "-55\n",
            "-56\n",
            "-57\n",
            "-58\n",
            "-59\n",
            "-60\n",
            "-61\n",
            "-62\n",
            "-63\n",
            "-64\n",
            "-65\n",
            "-66\n",
            "-67\n",
            "-68\n",
            "-69\n",
            "-70\n",
            "-71\n",
            "-72\n",
            "-73\n",
            "-74\n",
            "-75\n",
            "-76\n",
            "-77\n",
            "-78\n",
            "-79\n",
            "-80\n",
            "-81\n",
            "-82\n",
            "-83\n",
            "-84\n",
            "-85\n",
            "-86\n",
            "-87\n",
            "-88\n",
            "-89\n",
            "-90\n",
            "-91\n",
            "-92\n",
            "-93\n",
            "-94\n",
            "-95\n",
            "-96\n",
            "-97\n",
            "-98\n",
            "-99\n",
            "-100\n"
          ]
        }
      ]
    },
    {
      "cell_type": "markdown",
      "source": [
        "3. Programa En PYTHON que muestre los números del 100 al 1 con for y while."
      ],
      "metadata": {
        "id": "r2_ejd92iwHw"
      }
    },
    {
      "cell_type": "code",
      "source": [
        "for i in range (100,0,-1):\n",
        "  print(i)"
      ],
      "metadata": {
        "id": "TJJBdFWO4EZC",
        "colab": {
          "base_uri": "https://localhost:8080/"
        },
        "outputId": "094cfe58-af50-4c36-d02d-8a8fbf33883e"
      },
      "execution_count": null,
      "outputs": [
        {
          "output_type": "stream",
          "name": "stdout",
          "text": [
            "100\n",
            "99\n",
            "98\n",
            "97\n",
            "96\n",
            "95\n",
            "94\n",
            "93\n",
            "92\n",
            "91\n",
            "90\n",
            "89\n",
            "88\n",
            "87\n",
            "86\n",
            "85\n",
            "84\n",
            "83\n",
            "82\n",
            "81\n",
            "80\n",
            "79\n",
            "78\n",
            "77\n",
            "76\n",
            "75\n",
            "74\n",
            "73\n",
            "72\n",
            "71\n",
            "70\n",
            "69\n",
            "68\n",
            "67\n",
            "66\n",
            "65\n",
            "64\n",
            "63\n",
            "62\n",
            "61\n",
            "60\n",
            "59\n",
            "58\n",
            "57\n",
            "56\n",
            "55\n",
            "54\n",
            "53\n",
            "52\n",
            "51\n",
            "50\n",
            "49\n",
            "48\n",
            "47\n",
            "46\n",
            "45\n",
            "44\n",
            "43\n",
            "42\n",
            "41\n",
            "40\n",
            "39\n",
            "38\n",
            "37\n",
            "36\n",
            "35\n",
            "34\n",
            "33\n",
            "32\n",
            "31\n",
            "30\n",
            "29\n",
            "28\n",
            "27\n",
            "26\n",
            "25\n",
            "24\n",
            "23\n",
            "22\n",
            "21\n",
            "20\n",
            "19\n",
            "18\n",
            "17\n",
            "16\n",
            "15\n",
            "14\n",
            "13\n",
            "12\n",
            "11\n",
            "10\n",
            "9\n",
            "8\n",
            "7\n",
            "6\n",
            "5\n",
            "4\n",
            "3\n",
            "2\n",
            "1\n"
          ]
        }
      ]
    },
    {
      "cell_type": "markdown",
      "source": [
        "4. Construir un programa que visualice por pantalla todos los caracteres\n",
        "correspondientes a letras minúsculas."
      ],
      "metadata": {
        "id": "t1qvtO95i1pQ"
      }
    },
    {
      "cell_type": "code",
      "source": [
        "palabra = input(\"Ingrese una palabra para convertir rn minúscula: \")\n",
        "print(palabra.lower())"
      ],
      "metadata": {
        "colab": {
          "base_uri": "https://localhost:8080/"
        },
        "id": "zgZ4W_EdQW7I",
        "outputId": "bf26d33e-dbbd-4062-e6a9-ca7dd934ceb3"
      },
      "execution_count": null,
      "outputs": [
        {
          "output_type": "stream",
          "name": "stdout",
          "text": [
            "Ingrese una palabra para convertir rn minúscula: CienciA de DATos\n",
            "ciencia de datos\n"
          ]
        }
      ]
    },
    {
      "cell_type": "markdown",
      "source": [
        "5. Construir un programa que calcule la factorial de un valor numérico introducido\n",
        "como parámetro o argumento en la línea de comandos."
      ],
      "metadata": {
        "id": "8m7_u-woVfEx"
      }
    },
    {
      "cell_type": "code",
      "source": [
        "hallar_factorial = int(input(\"Ingrese un número para hallar su factorial: \"))\n",
        "factorial = 1\n",
        "for i in range (1,hallar_factorial+1):\n",
        "  factorial = factorial*i\n",
        "print(f\"El factorial de {hallar_factorial} es {factorial}\")"
      ],
      "metadata": {
        "colab": {
          "base_uri": "https://localhost:8080/"
        },
        "id": "oW4qR8OLQ7Ka",
        "outputId": "7fe5a6e2-f6b7-49b3-e3d8-9b5498abbaa0"
      },
      "execution_count": null,
      "outputs": [
        {
          "output_type": "stream",
          "name": "stdout",
          "text": [
            "Ingrese un número para hallar su factorial: 5\n",
            "El factorial de 5 es 120\n"
          ]
        }
      ]
    },
    {
      "cell_type": "markdown",
      "source": [
        "6. Construir un programa que calcule y visualice por pantalla la factorial de todos los\n",
        "valores numéricos enteros entre 1 y 10.texto en negrita"
      ],
      "metadata": {
        "id": "GSp6iVQLi9w9"
      }
    },
    {
      "cell_type": "code",
      "source": [
        "for i in range (1,11):\n",
        "  factorial = 1\n",
        "  for j in range (1,i+1):\n",
        "    factorial = factorial*j\n",
        "  print(f\"El factorial de \\033[1m{i}\\033[0m  es \\033[1m {factorial}\\033[0m \")"
      ],
      "metadata": {
        "colab": {
          "base_uri": "https://localhost:8080/"
        },
        "id": "vzIKk62wRT1k",
        "outputId": "b8b5ac15-de4a-4dc5-c435-74b5213ea7ed"
      },
      "execution_count": null,
      "outputs": [
        {
          "output_type": "stream",
          "name": "stdout",
          "text": [
            "El factorial de \u001b[1m1\u001b[0m  es \u001b[1m 1\u001b[0m \n",
            "El factorial de \u001b[1m2\u001b[0m  es \u001b[1m 2\u001b[0m \n",
            "El factorial de \u001b[1m3\u001b[0m  es \u001b[1m 6\u001b[0m \n",
            "El factorial de \u001b[1m4\u001b[0m  es \u001b[1m 24\u001b[0m \n",
            "El factorial de \u001b[1m5\u001b[0m  es \u001b[1m 120\u001b[0m \n",
            "El factorial de \u001b[1m6\u001b[0m  es \u001b[1m 720\u001b[0m \n",
            "El factorial de \u001b[1m7\u001b[0m  es \u001b[1m 5040\u001b[0m \n",
            "El factorial de \u001b[1m8\u001b[0m  es \u001b[1m 40320\u001b[0m \n",
            "El factorial de \u001b[1m9\u001b[0m  es \u001b[1m 362880\u001b[0m \n",
            "El factorial de \u001b[1m10\u001b[0m  es \u001b[1m 3628800\u001b[0m \n"
          ]
        }
      ]
    },
    {
      "cell_type": "markdown",
      "source": [
        "7. Construir un programa para obtener un número par aleatorio menor que el que nosotros le digamos."
      ],
      "metadata": {
        "id": "C0D_Um9ujA3Y"
      }
    },
    {
      "cell_type": "code",
      "source": [
        "import random\n",
        "\n",
        "num = float(input(\"Ingrese un número: \"))\n",
        "contador = 0\n",
        "\n",
        "while True:\n",
        "    aleatorio = random.randint(1, int(num))  # número entre 1 y el ingresado (sin pasarse)\n",
        "    contador += 1\n",
        "    if aleatorio % 2 == 0:  # si es par, se rompe el ciclo\n",
        "        break\n",
        "\n",
        "print(f\"Se realizaron {contador} intentos\")\n",
        "print(f\"{aleatorio} es par y es menor que {num}\")\n"
      ],
      "metadata": {
        "colab": {
          "base_uri": "https://localhost:8080/"
        },
        "id": "Rdwd0QD_StkI",
        "outputId": "d589de89-d8a4-42b9-a649-f76eb23f3056"
      },
      "execution_count": null,
      "outputs": [
        {
          "output_type": "stream",
          "name": "stdout",
          "text": [
            "Ingrese un número: 2000\n",
            "Se realizaron 6 intentos\n",
            "1072 es par y es menor que 2000.0\n"
          ]
        }
      ]
    },
    {
      "cell_type": "markdown",
      "source": [
        "8. Construir un programa donde se pida al usuario ingresar 10 números positivos para\n",
        "posteriormente listarlos, si el usuario se equivoca e ingresa un número negativo el\n",
        "programa debe pedir nuevamente el número hasta que se ingrese un número\n",
        "positivo."
      ],
      "metadata": {
        "id": "oBEztoU2jD7u"
      }
    },
    {
      "cell_type": "code",
      "source": [
        "contador = 0\n",
        "lista = []\n",
        "while (contador < 10):\n",
        "  num = int(input(\"Ingrese un número positivo:\"))\n",
        "  if(num >= 0):\n",
        "    lista.append(num)\n",
        "    contador += 1\n",
        "  else:\n",
        "    print(\"El valor no es valido\")\n",
        "print(f\"Los 10 números validos positivos dados fuerón {lista}\")\n"
      ],
      "metadata": {
        "colab": {
          "base_uri": "https://localhost:8080/"
        },
        "id": "3-77Nqry9S9M",
        "outputId": "d3047c9f-1d97-4f78-a92b-7707e8be3f35"
      },
      "execution_count": null,
      "outputs": [
        {
          "output_type": "stream",
          "name": "stdout",
          "text": [
            "Ingrese un número positivo:4000\n",
            "Ingrese un número positivo:2\n",
            "Ingrese un número positivo:2\n",
            "Ingrese un número positivo:2\n",
            "Ingrese un número positivo:2\n",
            "Ingrese un número positivo:2\n",
            "Ingrese un número positivo:2\n",
            "Ingrese un número positivo:2\n",
            "Ingrese un número positivo:2\n",
            "Ingrese un número positivo:3\n",
            "Los 10 números validos positivos dados fuerón [4000, 2, 2, 2, 2, 2, 2, 2, 2, 3]\n"
          ]
        }
      ]
    },
    {
      "cell_type": "markdown",
      "source": [
        "9. Construir un programa donde el usuario ingrese una frase, el programa debe\n",
        "mostrar un letrero diciendo si la frase es palíndromo o no es palíndromo."
      ],
      "metadata": {
        "id": "T_fYpYmGjIS4"
      }
    },
    {
      "cell_type": "code",
      "source": [
        "frase = input(\"Ingrese una frase: \")\n",
        "frase_sin_espacios = frase.replace(\" \", \"\").lower()\n",
        "if frase_sin_espacios == frase_sin_espacios[::-1]:\n",
        "  print(\"La frase es palíndromo\")\n",
        "else:\n",
        "  print(\"La frase no es palíndromo\")"
      ],
      "metadata": {
        "id": "if1aIMGAZVxp"
      },
      "execution_count": null,
      "outputs": []
    },
    {
      "cell_type": "markdown",
      "source": [
        "10. Construir un programa que genere la tabla de multiplicar de un numero digitado\n",
        "desde el teclado."
      ],
      "metadata": {
        "id": "04dXnTxTjMRC"
      }
    },
    {
      "cell_type": "code",
      "source": [
        "num = int(input(\"Ingrese un número: \"))\n",
        "for i in range (1,11): print(f\"{num} x {i} = {i*num}\")"
      ],
      "metadata": {
        "colab": {
          "base_uri": "https://localhost:8080/"
        },
        "id": "JyrkdsseavIh",
        "outputId": "d11b5f67-e1ce-43f4-add0-3647c967eca8"
      },
      "execution_count": null,
      "outputs": [
        {
          "output_type": "stream",
          "name": "stdout",
          "text": [
            "Ingrese un número: 6\n",
            "6 x 1 = 6\n",
            "6 x 2 = 12\n",
            "6 x 3 = 18\n",
            "6 x 4 = 24\n",
            "6 x 5 = 30\n",
            "6 x 6 = 36\n",
            "6 x 7 = 42\n",
            "6 x 8 = 48\n",
            "6 x 9 = 54\n",
            "6 x 10 = 60\n"
          ]
        }
      ]
    },
    {
      "cell_type": "markdown",
      "source": [
        "11. Se requiere un algoritmo para obtener la estatura promedio de un grupo de\n",
        "personas, cuyo número de miembros se desconoce y debe ser ingresado por\n",
        "teclado."
      ],
      "metadata": {
        "id": "6c7mRMzrjSCj"
      }
    },
    {
      "cell_type": "code",
      "source": [
        "total_persona_estatura =int(input(\"Ingrese número el de personas:\"))\n",
        "total = 0\n",
        "contador = 0\n",
        "while (contador < total_persona_estatura):\n",
        "    contador += 1\n",
        "    entrada = input(f\"Ingrese estatura de la persona {contador} en metros: \")\n",
        "    total += float(entrada)\n",
        "print(f\"La estatura promedio del grupo es de {total/total_persona_estatura:.2f} metros\")\n"
      ],
      "metadata": {
        "colab": {
          "base_uri": "https://localhost:8080/"
        },
        "id": "QswioNhGxDmF",
        "outputId": "7f278028-3cc2-4821-dacb-a21e5b569dc1"
      },
      "execution_count": null,
      "outputs": [
        {
          "output_type": "stream",
          "name": "stdout",
          "text": [
            "Ingrese número el de personas:4\n",
            "Ingrese estatura de la persona 1 en metros: 1.75\n",
            "Ingrese estatura de la persona 2 en metros: 1.65\n",
            "Ingrese estatura de la persona 3 en metros: 1.80\n",
            "Ingrese estatura de la persona 4 en metros: 1.60\n",
            "La estatura promedio del grupo es de 1.70 metros\n"
          ]
        }
      ]
    },
    {
      "cell_type": "markdown",
      "source": [
        "12. Realice un algoritmo para generar e imprimir los números pares que se encuentran\n",
        "entre 0 y 100."
      ],
      "metadata": {
        "id": "FCJUat2vjT_B"
      }
    },
    {
      "cell_type": "code",
      "source": [
        "for i in range (0,101):\n",
        "  if i % 2 == 0:\n",
        "    print(i)"
      ],
      "metadata": {
        "colab": {
          "base_uri": "https://localhost:8080/"
        },
        "id": "GhaonDyYbTsF",
        "outputId": "1ec49590-f7d5-4904-ccc3-22befb7fda1b"
      },
      "execution_count": null,
      "outputs": [
        {
          "output_type": "stream",
          "name": "stdout",
          "text": [
            "0\n",
            "2\n",
            "4\n",
            "6\n",
            "8\n",
            "10\n",
            "12\n",
            "14\n",
            "16\n",
            "18\n",
            "20\n",
            "22\n",
            "24\n",
            "26\n",
            "28\n",
            "30\n",
            "32\n",
            "34\n",
            "36\n",
            "38\n",
            "40\n",
            "42\n",
            "44\n",
            "46\n",
            "48\n",
            "50\n",
            "52\n",
            "54\n",
            "56\n",
            "58\n",
            "60\n",
            "62\n",
            "64\n",
            "66\n",
            "68\n",
            "70\n",
            "72\n",
            "74\n",
            "76\n",
            "78\n",
            "80\n",
            "82\n",
            "84\n",
            "86\n",
            "88\n",
            "90\n",
            "92\n",
            "94\n",
            "96\n",
            "98\n",
            "100\n"
          ]
        }
      ]
    },
    {
      "cell_type": "markdown",
      "source": [
        "13. Una empresa tiene el registro de las horas que trabaja diariamente un empleado\n",
        "durante la semana (seis días) y requiere determinar el total de éstas, así como el\n",
        "sueldo que recibirá por las horas trabajadas."
      ],
      "metadata": {
        "id": "cVzuPoSXjYrB"
      }
    },
    {
      "cell_type": "code",
      "source": [
        "total_horas = 0\n",
        "for i in range(1, 7):  # de lunes a sábadop\n",
        "    horas_trabajo_dia = int(input(f\"Ingrese el número de horas trabajadas en el día {i}: \"))\n",
        "    total_horas += horas_trabajo_dia\n",
        "\n",
        "sueldo_por_hora = float(input(\"Ingrese el sueldo por hora: \"))\n",
        "sueldo_total = total_horas * sueldo_por_hora\n",
        "\n",
        "print(f\"En la semana trabajó un total de {total_horas} horas y se le paga ${sueldo_total:.2f}\")\n"
      ],
      "metadata": {
        "colab": {
          "base_uri": "https://localhost:8080/"
        },
        "id": "Nglar9WDb0rV",
        "outputId": "27ddf699-214a-4475-a476-832b8e432f97"
      },
      "execution_count": null,
      "outputs": [
        {
          "output_type": "stream",
          "name": "stdout",
          "text": [
            "Ingrese el número de horas trabajadas en el día 1: 6\n",
            "Ingrese el número de horas trabajadas en el día 2: 3\n",
            "Ingrese el número de horas trabajadas en el día 3: 4\n",
            "Ingrese el número de horas trabajadas en el día 4: 5\n",
            "Ingrese el número de horas trabajadas en el día 5: 2\n",
            "Ingrese el número de horas trabajadas en el día 6: 1\n",
            "Ingrese el sueldo por hora: 1000\n",
            "En la semana trabajó un total de 21 horas y se le paga $21000.00\n"
          ]
        }
      ]
    },
    {
      "cell_type": "markdown",
      "source": [
        "14. Un empleado de la tienda “Tiki Taka” realiza N ventas durante el día, se requiere\n",
        "saber cuántas de ellas fueron mayores a $1000, cuántas fueron mayores a \\$500\n",
        "pero menores o iguales a \\$1000, y cuántas fueron menores o iguales a \\$500.  Además, se requiere saber el monto de lo vendido en cada categoría y de forma\n",
        "global."
      ],
      "metadata": {
        "id": "8vt8P2-cjdH6"
      }
    },
    {
      "cell_type": "code",
      "source": [
        "num_ventas = int(input(\"Ingrese el número de ventas realizadas: \"))\n",
        "\n",
        "if num_ventas <= 0:\n",
        "    print(\"El número de ventas debe ser mayor que cero.\")\n",
        "else:\n",
        "  contador_mayor_1000 = 0\n",
        "  contador_entre_500_y_1000 = 0\n",
        "  contador_menor_o_igual_500 = 0\n",
        "  for i in range(1, num_ventas + 1):\n",
        "    monto_venta = float(input(f\"Ingrese el monto de la venta {i}: \"))\n",
        "    if monto_venta > 1000:\n",
        "      #print(f\"La venta {i} fue mayor a $1000\")\n",
        "      contador_mayor_1000 += 1\n",
        "    elif monto_venta > 500:\n",
        "      #print(f\"La venta {i} fue mayor a $500 pero menor o igual a $1000\")\n",
        "      contador_entre_500_y_1000 += 1\n",
        "    else:\n",
        "      #print(f\"La venta {i} fue menor o igual a $500\")\n",
        "      contador_menor_o_igual_500 += 1\n",
        "  print(f\"Ventas mayores a $1000: {contador_mayor_1000}\")\n",
        "  print(f\"Ventas entre $500 y $1000: {contador_entre_500_y_1000}\")\n",
        "  print(f\"Ventas menores o iguales a $500: {contador_menor_o_igual_500}\")\n"
      ],
      "metadata": {
        "colab": {
          "base_uri": "https://localhost:8080/"
        },
        "id": "udGU2phWtCFn",
        "outputId": "ef01ab21-4435-4015-856e-ceb291d2d279"
      },
      "execution_count": null,
      "outputs": [
        {
          "output_type": "stream",
          "name": "stdout",
          "text": [
            "Ingrese el número de ventas realizadas: 4\n",
            "Ingrese el monto de la venta 1: 200\n",
            "Ingrese el monto de la venta 2: 200\n",
            "Ingrese el monto de la venta 3: 1200\n",
            "Ingrese el monto de la venta 4: 800\n",
            "Ventas mayores a $1000: 1\n",
            "Ventas entre $500 y $1000: 1\n",
            "Ventas menores o iguales a $500: 2\n"
          ]
        }
      ]
    },
    {
      "cell_type": "markdown",
      "source": [
        "15. Una persona adquirió un producto para pagar en 20 meses. El primer mes pagó \\$10,\n",
        "el segundo \\$20, el tercero $40 y así sucesivamente. Realice un algoritmo para\n",
        "determinar cuánto debe pagar mensualmente y el total de lo que pagó después de\n",
        "los 20 meses."
      ],
      "metadata": {
        "id": "mfOQywJ4jyMR"
      }
    },
    {
      "cell_type": "code",
      "source": [
        "pago_mensual = 10\n",
        "for i in range(1, 21):\n",
        "    print(f\"Pago mensual en el mes {i}: ${pago_mensual}\")\n",
        "    pago_mensual = pago_mensual*2\n"
      ],
      "metadata": {
        "colab": {
          "base_uri": "https://localhost:8080/"
        },
        "id": "ZBFJpuc8uMK3",
        "outputId": "3535cb64-f589-4d4f-d408-b10c44a71e15"
      },
      "execution_count": null,
      "outputs": [
        {
          "output_type": "stream",
          "name": "stdout",
          "text": [
            "Pago mensual en el mes 1: $10\n",
            "Pago mensual en el mes 2: $20\n",
            "Pago mensual en el mes 3: $40\n",
            "Pago mensual en el mes 4: $80\n",
            "Pago mensual en el mes 5: $160\n",
            "Pago mensual en el mes 6: $320\n",
            "Pago mensual en el mes 7: $640\n",
            "Pago mensual en el mes 8: $1280\n",
            "Pago mensual en el mes 9: $2560\n",
            "Pago mensual en el mes 10: $5120\n",
            "Pago mensual en el mes 11: $10240\n",
            "Pago mensual en el mes 12: $20480\n",
            "Pago mensual en el mes 13: $40960\n",
            "Pago mensual en el mes 14: $81920\n",
            "Pago mensual en el mes 15: $163840\n",
            "Pago mensual en el mes 16: $327680\n",
            "Pago mensual en el mes 17: $655360\n",
            "Pago mensual en el mes 18: $1310720\n",
            "Pago mensual en el mes 19: $2621440\n",
            "Pago mensual en el mes 20: $5242880\n"
          ]
        }
      ]
    },
    {
      "cell_type": "markdown",
      "source": [
        "16. Una empresa les paga a sus empleados con base en las horas trabajadas en la\n",
        "semana. Realice un algoritmo para determinar el sueldo semanal de N trabajadores\n",
        "y, además, calcule cuánto pagó la empresa por los N empleados."
      ],
      "metadata": {
        "id": "4uWn07dzjzXz"
      }
    },
    {
      "cell_type": "code",
      "source": [
        "N = int(input(\"Ingrese el número de trabajadores: \"))\n",
        "sueldo_por_hora = float(input(\"Ingrese el sueldo por hora: \"))\n",
        "suma_trabajadas = 0\n",
        "for i in range(1, N + 1):\n",
        "    horas_trabajadas = float(input(f\"Ingrese las horas trabajadas por el trabajador {i}: \"))\n",
        "    suma_trabajadas = suma_trabajadas + horas_trabajadas\n",
        "sueldo_total = suma_trabajadas * sueldo_por_hora\n",
        "print(f\"La empresa pago en la semana un total de ${sueldo_total:.2f}\")\n"
      ],
      "metadata": {
        "colab": {
          "base_uri": "https://localhost:8080/"
        },
        "id": "EMoUrhYjvI_O",
        "outputId": "fbff5b5c-53ce-40a3-9c7a-0452dc2d92a1"
      },
      "execution_count": null,
      "outputs": [
        {
          "output_type": "stream",
          "name": "stdout",
          "text": [
            "Ingrese el número de trabajadores: 2\n",
            "Ingrese el sueldo por hora: 10\n",
            "Ingrese las horas trabajadas por el trabajador 1: 20\n",
            "Ingrese las horas trabajadas por el trabajador 2: 10\n",
            "La empresa pago en la semana un total de $300.00\n"
          ]
        }
      ]
    },
    {
      "cell_type": "markdown",
      "source": [
        "17. Una empresa les paga a sus empleados con base en las horas trabajadas en la\n",
        "semana. Para esto, se registran los días que laboró y las horas de cada día. Realice\n",
        "un algoritmo para determinar el sueldo semanal de N trabajadores y además\n",
        "calcule cuánto pagó la empresa por los N empleados."
      ],
      "metadata": {
        "id": "fDqoQNtRj3cM"
      }
    },
    {
      "cell_type": "code",
      "source": [
        "N = int(input(\"Ingrese el número de trabajadores: \"))\n",
        "sueldo_por_hora = float(input(\"Ingrese el sueldo por hora: \"))\n",
        "pago_total_empresa = 0\n",
        "\n",
        "for i in range(1, N + 1):\n",
        "    print(f\"\\nDatos para el trabajador {i}:\")\n",
        "    total_horas_trab ajador = 0\n",
        "    for dia in range(1, 8): # Considerando 7 días en la semana\n",
        "        horas_dia = float(input(f\"Ingrese las horas trabajadas en el día {dia}: \"))\n",
        "        total_horas_trabajador += horas_dia\n",
        "\n",
        "    sueldo_semanal_trabajador = total_horas_trabajador * sueldo_por_hora\n",
        "    pago_total_empresa += sueldo_semanal_trabajador\n",
        "\n",
        "    print(f\"El sueldo semanal del trabajador {i} es: ${sueldo_semanal_trabajador:.2f}\")\n",
        "\n",
        "print(f\"\\nEl pago total de la empresa por los {N} empleados es: ${pago_total_empresa:.2f}\")"
      ],
      "metadata": {
        "colab": {
          "base_uri": "https://localhost:8080/"
        },
        "id": "jo2zgcxIwfue",
        "outputId": "35d9b299-8a0e-47d4-def4-efe5e7b3f5ff"
      },
      "execution_count": null,
      "outputs": [
        {
          "output_type": "stream",
          "name": "stdout",
          "text": [
            "Ingrese el número de trabajadores: 3\n",
            "Ingrese el sueldo por hora: 10000\n",
            "\n",
            "Datos para el trabajador 1:\n",
            "Ingrese las horas trabajadas en el día 1: 8\n",
            "Ingrese las horas trabajadas en el día 2: 10\n",
            "Ingrese las horas trabajadas en el día 3: 15\n",
            "Ingrese las horas trabajadas en el día 4: 3\n",
            "Ingrese las horas trabajadas en el día 5: 6\n",
            "Ingrese las horas trabajadas en el día 6: 1\n",
            "Ingrese las horas trabajadas en el día 7: 8\n",
            "El sueldo semanal del trabajador 1 es: $510000.00\n",
            "\n",
            "Datos para el trabajador 2:\n",
            "Ingrese las horas trabajadas en el día 1: 2\n",
            "Ingrese las horas trabajadas en el día 2: 3\n",
            "Ingrese las horas trabajadas en el día 3: 4\n",
            "Ingrese las horas trabajadas en el día 4: 5\n",
            "Ingrese las horas trabajadas en el día 5: 6\n",
            "Ingrese las horas trabajadas en el día 6: 7\n",
            "Ingrese las horas trabajadas en el día 7: 2\n",
            "El sueldo semanal del trabajador 2 es: $290000.00\n",
            "\n",
            "Datos para el trabajador 3:\n",
            "Ingrese las horas trabajadas en el día 1: 4\n",
            "Ingrese las horas trabajadas en el día 2: 3\n",
            "Ingrese las horas trabajadas en el día 3: 2\n",
            "Ingrese las horas trabajadas en el día 4: 1\n",
            "Ingrese las horas trabajadas en el día 5: 3\n",
            "Ingrese las horas trabajadas en el día 6: 4\n",
            "Ingrese las horas trabajadas en el día 7: 6\n",
            "El sueldo semanal del trabajador 3 es: $230000.00\n",
            "\n",
            "El pago total de la empresa por los 3 empleados es: $1030000.00\n"
          ]
        }
      ]
    },
    {
      "cell_type": "markdown",
      "source": [
        "18. Un profesor tiene un salario inicial de $1500, y recibe un incremento de 10 % anual\n",
        "durante 6 años. ¿Cuál es su salario al cabo de 6 años? ¿Qué salario ha recibido en\n",
        "cada uno de los 6 años?"
      ],
      "metadata": {
        "id": "VuBl_GGqj_1r"
      }
    },
    {
      "cell_type": "code",
      "source": [
        "salario_inicial = 1500\n",
        "for i in range (6):\n",
        "  incremento_porcentual = salario_inicial * 0.1\n",
        "salario_inicial = salario_inicial + incremento_porcentual\n",
        "print(f\"El salario del año {i+1} es de ${salario_inicial:.2f}\")"
      ],
      "metadata": {
        "colab": {
          "base_uri": "https://localhost:8080/"
        },
        "id": "taN8ZTy11w58",
        "outputId": "8a5cc3c7-5daa-42c5-ee51-164372eb550c"
      },
      "execution_count": null,
      "outputs": [
        {
          "output_type": "stream",
          "name": "stdout",
          "text": [
            "El salario del año 6 es de $1650.00\n"
          ]
        }
      ]
    },
    {
      "cell_type": "markdown",
      "source": [
        "19. Se requiere un algoritmo para determinar, de N cantidades, cuántas son cero,\n",
        "cuántas son menores a cero, y cuántas son mayores a cero."
      ],
      "metadata": {
        "id": "eSiE-Kn1kCUR"
      }
    },
    {
      "cell_type": "code",
      "source": [
        "N = int(input(\"Ingrese el número de cantidades: \"))\n",
        "\n",
        "if N <= 0:\n",
        "  print(\"El número de cantidades debe ser positivo.\")\n",
        "else:\n",
        "  contador_cero = 0\n",
        "  contador_menor_cero = 0\n",
        "  contador_mayor_cero = 0\n",
        "\n",
        "  for i in range(N):\n",
        "    cantidad = float(input(f\"Ingrese la cantidad {i+1}: \"))\n",
        "    if cantidad == 0:\n",
        "      contador_cero += 1\n",
        "    elif cantidad < 0:\n",
        "      contador_menor_cero += 1\n",
        "    else:\n",
        "      contador_mayor_cero += 1\n",
        "\n",
        "  print(f\"Cantidad de ceros: {contador_cero}\")\n",
        "  print(f\"Cantidad de menores a cero: {contador_menor_cero}\")\n",
        "  print(f\"Cantidad de mayores a cero: {contador_mayor_cero}\")"
      ],
      "metadata": {
        "colab": {
          "base_uri": "https://localhost:8080/"
        },
        "id": "MeGhTDTX3CHx",
        "outputId": "bf03ccfa-a396-4272-80d8-79eab738ddcf"
      },
      "execution_count": null,
      "outputs": [
        {
          "output_type": "stream",
          "name": "stdout",
          "text": [
            "Ingrese el número de cantidades: 5\n",
            "Ingrese la cantidad 1: 0\n",
            "Ingrese la cantidad 2: -1\n",
            "Ingrese la cantidad 3: 34\n",
            "Ingrese la cantidad 4: 0\n",
            "Ingrese la cantidad 5: -3\n",
            "Cantidad de ceros: 2\n",
            "Cantidad de menores a cero: 2\n",
            "Cantidad de mayores a cero: 1\n"
          ]
        }
      ]
    },
    {
      "cell_type": "markdown",
      "source": [
        "20. Se requiere un algoritmo para determinar cuánto ahorrará en pesos una persona\n",
        "diariamente, y en un año, si ahorra 3 pesos el primero de enero, 9 pesos el dos de\n",
        "enero, 27pesos el 3 de enero y así sucesivamente todo el año."
      ],
      "metadata": {
        "id": "YEcMhcCXkGhz"
      }
    },
    {
      "cell_type": "code",
      "source": [
        "for i in range (1, 366):print(f\"El día {i} ahorro {3**i} pesos\")"
      ],
      "metadata": {
        "colab": {
          "base_uri": "https://localhost:8080/",
          "height": 0
        },
        "id": "hAjHXRTdlUba",
        "outputId": "a61714bd-ff5b-414b-a2cf-74d45100f80e"
      },
      "execution_count": 1,
      "outputs": [
        {
          "output_type": "stream",
          "name": "stdout",
          "text": [
            "El día 1 ahorro 3 pesos\n",
            "El día 2 ahorro 9 pesos\n",
            "El día 3 ahorro 27 pesos\n",
            "El día 4 ahorro 81 pesos\n",
            "El día 5 ahorro 243 pesos\n",
            "El día 6 ahorro 729 pesos\n",
            "El día 7 ahorro 2187 pesos\n",
            "El día 8 ahorro 6561 pesos\n",
            "El día 9 ahorro 19683 pesos\n",
            "El día 10 ahorro 59049 pesos\n",
            "El día 11 ahorro 177147 pesos\n",
            "El día 12 ahorro 531441 pesos\n",
            "El día 13 ahorro 1594323 pesos\n",
            "El día 14 ahorro 4782969 pesos\n",
            "El día 15 ahorro 14348907 pesos\n",
            "El día 16 ahorro 43046721 pesos\n",
            "El día 17 ahorro 129140163 pesos\n",
            "El día 18 ahorro 387420489 pesos\n",
            "El día 19 ahorro 1162261467 pesos\n",
            "El día 20 ahorro 3486784401 pesos\n",
            "El día 21 ahorro 10460353203 pesos\n",
            "El día 22 ahorro 31381059609 pesos\n",
            "El día 23 ahorro 94143178827 pesos\n",
            "El día 24 ahorro 282429536481 pesos\n",
            "El día 25 ahorro 847288609443 pesos\n",
            "El día 26 ahorro 2541865828329 pesos\n",
            "El día 27 ahorro 7625597484987 pesos\n",
            "El día 28 ahorro 22876792454961 pesos\n",
            "El día 29 ahorro 68630377364883 pesos\n",
            "El día 30 ahorro 205891132094649 pesos\n",
            "El día 31 ahorro 617673396283947 pesos\n",
            "El día 32 ahorro 1853020188851841 pesos\n",
            "El día 33 ahorro 5559060566555523 pesos\n",
            "El día 34 ahorro 16677181699666569 pesos\n",
            "El día 35 ahorro 50031545098999707 pesos\n",
            "El día 36 ahorro 150094635296999121 pesos\n",
            "El día 37 ahorro 450283905890997363 pesos\n",
            "El día 38 ahorro 1350851717672992089 pesos\n",
            "El día 39 ahorro 4052555153018976267 pesos\n",
            "El día 40 ahorro 12157665459056928801 pesos\n",
            "El día 41 ahorro 36472996377170786403 pesos\n",
            "El día 42 ahorro 109418989131512359209 pesos\n",
            "El día 43 ahorro 328256967394537077627 pesos\n",
            "El día 44 ahorro 984770902183611232881 pesos\n",
            "El día 45 ahorro 2954312706550833698643 pesos\n",
            "El día 46 ahorro 8862938119652501095929 pesos\n",
            "El día 47 ahorro 26588814358957503287787 pesos\n",
            "El día 48 ahorro 79766443076872509863361 pesos\n",
            "El día 49 ahorro 239299329230617529590083 pesos\n",
            "El día 50 ahorro 717897987691852588770249 pesos\n",
            "El día 51 ahorro 2153693963075557766310747 pesos\n",
            "El día 52 ahorro 6461081889226673298932241 pesos\n",
            "El día 53 ahorro 19383245667680019896796723 pesos\n",
            "El día 54 ahorro 58149737003040059690390169 pesos\n",
            "El día 55 ahorro 174449211009120179071170507 pesos\n",
            "El día 56 ahorro 523347633027360537213511521 pesos\n",
            "El día 57 ahorro 1570042899082081611640534563 pesos\n",
            "El día 58 ahorro 4710128697246244834921603689 pesos\n",
            "El día 59 ahorro 14130386091738734504764811067 pesos\n",
            "El día 60 ahorro 42391158275216203514294433201 pesos\n",
            "El día 61 ahorro 127173474825648610542883299603 pesos\n",
            "El día 62 ahorro 381520424476945831628649898809 pesos\n",
            "El día 63 ahorro 1144561273430837494885949696427 pesos\n",
            "El día 64 ahorro 3433683820292512484657849089281 pesos\n",
            "El día 65 ahorro 10301051460877537453973547267843 pesos\n",
            "El día 66 ahorro 30903154382632612361920641803529 pesos\n",
            "El día 67 ahorro 92709463147897837085761925410587 pesos\n",
            "El día 68 ahorro 278128389443693511257285776231761 pesos\n",
            "El día 69 ahorro 834385168331080533771857328695283 pesos\n",
            "El día 70 ahorro 2503155504993241601315571986085849 pesos\n",
            "El día 71 ahorro 7509466514979724803946715958257547 pesos\n",
            "El día 72 ahorro 22528399544939174411840147874772641 pesos\n",
            "El día 73 ahorro 67585198634817523235520443624317923 pesos\n",
            "El día 74 ahorro 202755595904452569706561330872953769 pesos\n",
            "El día 75 ahorro 608266787713357709119683992618861307 pesos\n",
            "El día 76 ahorro 1824800363140073127359051977856583921 pesos\n",
            "El día 77 ahorro 5474401089420219382077155933569751763 pesos\n",
            "El día 78 ahorro 16423203268260658146231467800709255289 pesos\n",
            "El día 79 ahorro 49269609804781974438694403402127765867 pesos\n",
            "El día 80 ahorro 147808829414345923316083210206383297601 pesos\n",
            "El día 81 ahorro 443426488243037769948249630619149892803 pesos\n",
            "El día 82 ahorro 1330279464729113309844748891857449678409 pesos\n",
            "El día 83 ahorro 3990838394187339929534246675572349035227 pesos\n",
            "El día 84 ahorro 11972515182562019788602740026717047105681 pesos\n",
            "El día 85 ahorro 35917545547686059365808220080151141317043 pesos\n",
            "El día 86 ahorro 107752636643058178097424660240453423951129 pesos\n",
            "El día 87 ahorro 323257909929174534292273980721360271853387 pesos\n",
            "El día 88 ahorro 969773729787523602876821942164080815560161 pesos\n",
            "El día 89 ahorro 2909321189362570808630465826492242446680483 pesos\n",
            "El día 90 ahorro 8727963568087712425891397479476727340041449 pesos\n",
            "El día 91 ahorro 26183890704263137277674192438430182020124347 pesos\n",
            "El día 92 ahorro 78551672112789411833022577315290546060373041 pesos\n",
            "El día 93 ahorro 235655016338368235499067731945871638181119123 pesos\n",
            "El día 94 ahorro 706965049015104706497203195837614914543357369 pesos\n",
            "El día 95 ahorro 2120895147045314119491609587512844743630072107 pesos\n",
            "El día 96 ahorro 6362685441135942358474828762538534230890216321 pesos\n",
            "El día 97 ahorro 19088056323407827075424486287615602692670648963 pesos\n",
            "El día 98 ahorro 57264168970223481226273458862846808078011946889 pesos\n",
            "El día 99 ahorro 171792506910670443678820376588540424234035840667 pesos\n",
            "El día 100 ahorro 515377520732011331036461129765621272702107522001 pesos\n",
            "El día 101 ahorro 1546132562196033993109383389296863818106322566003 pesos\n",
            "El día 102 ahorro 4638397686588101979328150167890591454318967698009 pesos\n",
            "El día 103 ahorro 13915193059764305937984450503671774362956903094027 pesos\n",
            "El día 104 ahorro 41745579179292917813953351511015323088870709282081 pesos\n",
            "El día 105 ahorro 125236737537878753441860054533045969266612127846243 pesos\n",
            "El día 106 ahorro 375710212613636260325580163599137907799836383538729 pesos\n",
            "El día 107 ahorro 1127130637840908780976740490797413723399509150616187 pesos\n",
            "El día 108 ahorro 3381391913522726342930221472392241170198527451848561 pesos\n",
            "El día 109 ahorro 10144175740568179028790664417176723510595582355545683 pesos\n",
            "El día 110 ahorro 30432527221704537086371993251530170531786747066637049 pesos\n",
            "El día 111 ahorro 91297581665113611259115979754590511595360241199911147 pesos\n",
            "El día 112 ahorro 273892744995340833777347939263771534786080723599733441 pesos\n",
            "El día 113 ahorro 821678234986022501332043817791314604358242170799200323 pesos\n",
            "El día 114 ahorro 2465034704958067503996131453373943813074726512397600969 pesos\n",
            "El día 115 ahorro 7395104114874202511988394360121831439224179537192802907 pesos\n",
            "El día 116 ahorro 22185312344622607535965183080365494317672538611578408721 pesos\n",
            "El día 117 ahorro 66555937033867822607895549241096482953017615834735226163 pesos\n",
            "El día 118 ahorro 199667811101603467823686647723289448859052847504205678489 pesos\n",
            "El día 119 ahorro 599003433304810403471059943169868346577158542512617035467 pesos\n",
            "El día 120 ahorro 1797010299914431210413179829509605039731475627537851106401 pesos\n",
            "El día 121 ahorro 5391030899743293631239539488528815119194426882613553319203 pesos\n",
            "El día 122 ahorro 16173092699229880893718618465586445357583280647840659957609 pesos\n",
            "El día 123 ahorro 48519278097689642681155855396759336072749841943521979872827 pesos\n",
            "El día 124 ahorro 145557834293068928043467566190278008218249525830565939618481 pesos\n",
            "El día 125 ahorro 436673502879206784130402698570834024654748577491697818855443 pesos\n",
            "El día 126 ahorro 1310020508637620352391208095712502073964245732475093456566329 pesos\n",
            "El día 127 ahorro 3930061525912861057173624287137506221892737197425280369698987 pesos\n",
            "El día 128 ahorro 11790184577738583171520872861412518665678211592275841109096961 pesos\n",
            "El día 129 ahorro 35370553733215749514562618584237555997034634776827523327290883 pesos\n",
            "El día 130 ahorro 106111661199647248543687855752712667991103904330482569981872649 pesos\n",
            "El día 131 ahorro 318334983598941745631063567258138003973311712991447709945617947 pesos\n",
            "El día 132 ahorro 955004950796825236893190701774414011919935138974343129836853841 pesos\n",
            "El día 133 ahorro 2865014852390475710679572105323242035759805416923029389510561523 pesos\n",
            "El día 134 ahorro 8595044557171427132038716315969726107279416250769088168531684569 pesos\n",
            "El día 135 ahorro 25785133671514281396116148947909178321838248752307264505595053707 pesos\n",
            "El día 136 ahorro 77355401014542844188348446843727534965514746256921793516785161121 pesos\n",
            "El día 137 ahorro 232066203043628532565045340531182604896544238770765380550355483363 pesos\n",
            "El día 138 ahorro 696198609130885597695136021593547814689632716312296141651066450089 pesos\n",
            "El día 139 ahorro 2088595827392656793085408064780643444068898148936888424953199350267 pesos\n",
            "El día 140 ahorro 6265787482177970379256224194341930332206694446810665274859598050801 pesos\n",
            "El día 141 ahorro 18797362446533911137768672583025790996620083340431995824578794152403 pesos\n",
            "El día 142 ahorro 56392087339601733413306017749077372989860250021295987473736382457209 pesos\n",
            "El día 143 ahorro 169176262018805200239918053247232118969580750063887962421209147371627 pesos\n",
            "El día 144 ahorro 507528786056415600719754159741696356908742250191663887263627442114881 pesos\n",
            "El día 145 ahorro 1522586358169246802159262479225089070726226750574991661790882326344643 pesos\n",
            "El día 146 ahorro 4567759074507740406477787437675267212178680251724974985372646979033929 pesos\n",
            "El día 147 ahorro 13703277223523221219433362313025801636536040755174924956117940937101787 pesos\n",
            "El día 148 ahorro 41109831670569663658300086939077404909608122265524774868353822811305361 pesos\n",
            "El día 149 ahorro 123329495011708990974900260817232214728824366796574324605061468433916083 pesos\n",
            "El día 150 ahorro 369988485035126972924700782451696644186473100389722973815184405301748249 pesos\n",
            "El día 151 ahorro 1109965455105380918774102347355089932559419301169168921445553215905244747 pesos\n",
            "El día 152 ahorro 3329896365316142756322307042065269797678257903507506764336659647715734241 pesos\n",
            "El día 153 ahorro 9989689095948428268966921126195809393034773710522520293009978943147202723 pesos\n",
            "El día 154 ahorro 29969067287845284806900763378587428179104321131567560879029936829441608169 pesos\n",
            "El día 155 ahorro 89907201863535854420702290135762284537312963394702682637089810488324824507 pesos\n",
            "El día 156 ahorro 269721605590607563262106870407286853611938890184108047911269431464974473521 pesos\n",
            "El día 157 ahorro 809164816771822689786320611221860560835816670552324143733808294394923420563 pesos\n",
            "El día 158 ahorro 2427494450315468069358961833665581682507450011656972431201424883184770261689 pesos\n",
            "El día 159 ahorro 7282483350946404208076885500996745047522350034970917293604274649554310785067 pesos\n",
            "El día 160 ahorro 21847450052839212624230656502990235142567050104912751880812823948662932355201 pesos\n",
            "El día 161 ahorro 65542350158517637872691969508970705427701150314738255642438471845988797065603 pesos\n",
            "El día 162 ahorro 196627050475552913618075908526912116283103450944214766927315415537966391196809 pesos\n",
            "El día 163 ahorro 589881151426658740854227725580736348849310352832644300781946246613899173590427 pesos\n",
            "El día 164 ahorro 1769643454279976222562683176742209046547931058497932902345838739841697520771281 pesos\n",
            "El día 165 ahorro 5308930362839928667688049530226627139643793175493798707037516219525092562313843 pesos\n",
            "El día 166 ahorro 15926791088519786003064148590679881418931379526481396121112548658575277686941529 pesos\n",
            "El día 167 ahorro 47780373265559358009192445772039644256794138579444188363337645975725833060824587 pesos\n",
            "El día 168 ahorro 143341119796678074027577337316118932770382415738332565090012937927177499182473761 pesos\n",
            "El día 169 ahorro 430023359390034222082732011948356798311147247214997695270038813781532497547421283 pesos\n",
            "El día 170 ahorro 1290070078170102666248196035845070394933441741644993085810116441344597492642263849 pesos\n",
            "El día 171 ahorro 3870210234510307998744588107535211184800325224934979257430349324033792477926791547 pesos\n",
            "El día 172 ahorro 11610630703530923996233764322605633554400975674804937772291047972101377433780374641 pesos\n",
            "El día 173 ahorro 34831892110592771988701292967816900663202927024414813316873143916304132301341123923 pesos\n",
            "El día 174 ahorro 104495676331778315966103878903450701989608781073244439950619431748912396904023371769 pesos\n",
            "El día 175 ahorro 313487028995334947898311636710352105968826343219733319851858295246737190712070115307 pesos\n",
            "El día 176 ahorro 940461086986004843694934910131056317906479029659199959555574885740211572136210345921 pesos\n",
            "El día 177 ahorro 2821383260958014531084804730393168953719437088977599878666724657220634716408631037763 pesos\n",
            "El día 178 ahorro 8464149782874043593254414191179506861158311266932799636000173971661904149225893113289 pesos\n",
            "El día 179 ahorro 25392449348622130779763242573538520583474933800798398908000521914985712447677679339867 pesos\n",
            "El día 180 ahorro 76177348045866392339289727720615561750424801402395196724001565744957137343033038019601 pesos\n",
            "El día 181 ahorro 228532044137599177017869183161846685251274404207185590172004697234871412029099114058803 pesos\n",
            "El día 182 ahorro 685596132412797531053607549485540055753823212621556770516014091704614236087297342176409 pesos\n",
            "El día 183 ahorro 2056788397238392593160822648456620167261469637864670311548042275113842708261892026529227 pesos\n",
            "El día 184 ahorro 6170365191715177779482467945369860501784408913594010934644126825341528124785676079587681 pesos\n",
            "El día 185 ahorro 18511095575145533338447403836109581505353226740782032803932380476024584374357028238763043 pesos\n",
            "El día 186 ahorro 55533286725436600015342211508328744516059680222346098411797141428073753123071084716289129 pesos\n",
            "El día 187 ahorro 166599860176309800046026634524986233548179040667038295235391424284221259369213254148867387 pesos\n",
            "El día 188 ahorro 499799580528929400138079903574958700644537122001114885706174272852663778107639762446602161 pesos\n",
            "El día 189 ahorro 1499398741586788200414239710724876101933611366003344657118522818557991334322919287339806483 pesos\n",
            "El día 190 ahorro 4498196224760364601242719132174628305800834098010033971355568455673974002968757862019419449 pesos\n",
            "El día 191 ahorro 13494588674281093803728157396523884917402502294030101914066705367021922008906273586058258347 pesos\n",
            "El día 192 ahorro 40483766022843281411184472189571654752207506882090305742200116101065766026718820758174775041 pesos\n",
            "El día 193 ahorro 121451298068529844233553416568714964256622520646270917226600348303197298080156462274524325123 pesos\n",
            "El día 194 ahorro 364353894205589532700660249706144892769867561938812751679801044909591894240469386823572975369 pesos\n",
            "El día 195 ahorro 1093061682616768598101980749118434678309602685816438255039403134728775682721408160470718926107 pesos\n",
            "El día 196 ahorro 3279185047850305794305942247355304034928808057449314765118209404186327048164224481412156778321 pesos\n",
            "El día 197 ahorro 9837555143550917382917826742065912104786424172347944295354628212558981144492673444236470334963 pesos\n",
            "El día 198 ahorro 29512665430652752148753480226197736314359272517043832886063884637676943433478020332709411004889 pesos\n",
            "El día 199 ahorro 88537996291958256446260440678593208943077817551131498658191653913030830300434060998128233014667 pesos\n",
            "El día 200 ahorro 265613988875874769338781322035779626829233452653394495974574961739092490901302182994384699044001 pesos\n",
            "El día 201 ahorro 796841966627624308016343966107338880487700357960183487923724885217277472703906548983154097132003 pesos\n",
            "El día 202 ahorro 2390525899882872924049031898322016641463101073880550463771174655651832418111719646949462291396009 pesos\n",
            "El día 203 ahorro 7171577699648618772147095694966049924389303221641651391313523966955497254335158940848386874188027 pesos\n",
            "El día 204 ahorro 21514733098945856316441287084898149773167909664924954173940571900866491763005476822545160622564081 pesos\n",
            "El día 205 ahorro 64544199296837568949323861254694449319503728994774862521821715702599475289016430467635481867692243 pesos\n",
            "El día 206 ahorro 193632597890512706847971583764083347958511186984324587565465147107798425867049291402906445603076729 pesos\n",
            "El día 207 ahorro 580897793671538120543914751292250043875533560952973762696395441323395277601147874208719336809230187 pesos\n",
            "El día 208 ahorro 1742693381014614361631744253876750131626600682858921288089186323970185832803443622626158010427690561 pesos\n",
            "El día 209 ahorro 5228080143043843084895232761630250394879802048576763864267558971910557498410330867878474031283071683 pesos\n",
            "El día 210 ahorro 15684240429131529254685698284890751184639406145730291592802676915731672495230992603635422093849215049 pesos\n",
            "El día 211 ahorro 47052721287394587764057094854672253553918218437190874778408030747195017485692977810906266281547645147 pesos\n",
            "El día 212 ahorro 141158163862183763292171284564016760661754655311572624335224092241585052457078933432718798844642935441 pesos\n",
            "El día 213 ahorro 423474491586551289876513853692050281985263965934717873005672276724755157371236800298156396533928806323 pesos\n",
            "El día 214 ahorro 1270423474759653869629541561076150845955791897804153619017016830174265472113710400894469189601786418969 pesos\n",
            "El día 215 ahorro 3811270424278961608888624683228452537867375693412460857051050490522796416341131202683407568805359256907 pesos\n",
            "El día 216 ahorro 11433811272836884826665874049685357613602127080237382571153151471568389249023393608050222706416077770721 pesos\n",
            "El día 217 ahorro 34301433818510654479997622149056072840806381240712147713459454414705167747070180824150668119248233312163 pesos\n",
            "El día 218 ahorro 102904301455531963439992866447168218522419143722136443140378363244115503241210542472452004357744699936489 pesos\n",
            "El día 219 ahorro 308712904366595890319978599341504655567257431166409329421135089732346509723631627417356013073234099809467 pesos\n",
            "El día 220 ahorro 926138713099787670959935798024513966701772293499227988263405269197039529170894882252068039219702299428401 pesos\n",
            "El día 221 ahorro 2778416139299363012879807394073541900105316880497683964790215807591118587512684646756204117659106898285203 pesos\n",
            "El día 222 ahorro 8335248417898089038639422182220625700315950641493051894370647422773355762538053940268612352977320694855609 pesos\n",
            "El día 223 ahorro 25005745253694267115918266546661877100947851924479155683111942268320067287614161820805837058931962084566827 pesos\n",
            "El día 224 ahorro 75017235761082801347754799639985631302843555773437467049335826804960201862842485462417511176795886253700481 pesos\n",
            "El día 225 ahorro 225051707283248404043264398919956893908530667320312401148007480414880605588527456387252533530387658761101443 pesos\n",
            "El día 226 ahorro 675155121849745212129793196759870681725592001960937203444022441244641816765582369161757600591162976283304329 pesos\n",
            "El día 227 ahorro 2025465365549235636389379590279612045176776005882811610332067323733925450296747107485272801773488928849912987 pesos\n",
            "El día 228 ahorro 6076396096647706909168138770838836135530328017648434830996201971201776350890241322455818405320466786549738961 pesos\n",
            "El día 229 ahorro 18229188289943120727504416312516508406590984052945304492988605913605329052670723967367455215961400359649216883 pesos\n",
            "El día 230 ahorro 54687564869829362182513248937549525219772952158835913478965817740815987158012171902102365647884201078947650649 pesos\n",
            "El día 231 ahorro 164062694609488086547539746812648575659318856476507740436897453222447961474036515706307096943652603236842951947 pesos\n",
            "El día 232 ahorro 492188083828464259642619240437945726977956569429523221310692359667343884422109547118921290830957809710528855841 pesos\n",
            "El día 233 ahorro 1476564251485392778927857721313837180933869708288569663932077079002031653266328641356763872492873429131586567523 pesos\n",
            "El día 234 ahorro 4429692754456178336783573163941511542801609124865708991796231237006094959798985924070291617478620287394759702569 pesos\n",
            "El día 235 ahorro 13289078263368535010350719491824534628404827374597126975388693711018284879396957772210874852435860862184279107707 pesos\n",
            "El día 236 ahorro 39867234790105605031052158475473603885214482123791380926166081133054854638190873316632624557307582586552837323121 pesos\n",
            "El día 237 ahorro 119601704370316815093156475426420811655643446371374142778498243399164563914572619949897873671922747759658511969363 pesos\n",
            "El día 238 ahorro 358805113110950445279469426279262434966930339114122428335494730197493691743717859849693621015768243278975535908089 pesos\n",
            "El día 239 ahorro 1076415339332851335838408278837787304900791017342367285006484190592481075231153579549080863047304729836926607724267 pesos\n",
            "El día 240 ahorro 3229246017998554007515224836513361914702373052027101855019452571777443225693460738647242589141914189510779823172801 pesos\n",
            "El día 241 ahorro 9687738053995662022545674509540085744107119156081305565058357715332329677080382215941727767425742568532339469518403 pesos\n",
            "El día 242 ahorro 29063214161986986067637023528620257232321357468243916695175073145996989031241146647825183302277227705597018408555209 pesos\n",
            "El día 243 ahorro 87189642485960958202911070585860771696964072404731750085525219437990967093723439943475549906831683116791055225665627 pesos\n",
            "El día 244 ahorro 261568927457882874608733211757582315090892217214195250256575658313972901281170319830426649720495049350373165676996881 pesos\n",
            "El día 245 ahorro 784706782373648623826199635272746945272676651642585750769726974941918703843510959491279949161485148051119497030990643 pesos\n",
            "El día 246 ahorro 2354120347120945871478598905818240835818029954927757252309180924825756111530532878473839847484455444153358491092971929 pesos\n",
            "El día 247 ahorro 7062361041362837614435796717454722507454089864783271756927542774477268334591598635421519542453366332460075473278915787 pesos\n",
            "El día 248 ahorro 21187083124088512843307390152364167522362269594349815270782628323431805003774795906264558627360098997380226419836747361 pesos\n",
            "El día 249 ahorro 63561249372265538529922170457092502567086808783049445812347884970295415011324387718793675882080296992140679259510242083 pesos\n",
            "El día 250 ahorro 190683748116796615589766511371277507701260426349148337437043654910886245033973163156381027646240890976422037778530726249 pesos\n",
            "El día 251 ahorro 572051244350389846769299534113832523103781279047445012311130964732658735101919489469143082938722672929266113335592178747 pesos\n",
            "El día 252 ahorro 1716153733051169540307898602341497569311343837142335036933392894197976205305758468407429248816168018787798340006776536241 pesos\n",
            "El día 253 ahorro 5148461199153508620923695807024492707934031511427005110800178682593928615917275405222287746448504056363395020020329608723 pesos\n",
            "El día 254 ahorro 15445383597460525862771087421073478123802094534281015332400536047781785847751826215666863239345512169090185060060988826169 pesos\n",
            "El día 255 ahorro 46336150792381577588313262263220434371406283602843045997201608143345357543255478647000589718036536507270555180182966478507 pesos\n",
            "El día 256 ahorro 139008452377144732764939786789661303114218850808529137991604824430036072629766435941001769154109609521811665540548899435521 pesos\n",
            "El día 257 ahorro 417025357131434198294819360368983909342656552425587413974814473290108217889299307823005307462328828565434996621646698306563 pesos\n",
            "El día 258 ahorro 1251076071394302594884458081106951728027969657276762241924443419870324653667897923469015922386986485696304989864940094919689 pesos\n",
            "El día 259 ahorro 3753228214182907784653374243320855184083908971830286725773330259610973961003693770407047767160959457088914969594820284759067 pesos\n",
            "El día 260 ahorro 11259684642548723353960122729962565552251726915490860177319990778832921883011081311221143301482878371266744908784460854277201 pesos\n",
            "El día 261 ahorro 33779053927646170061880368189887696656755180746472580531959972336498765649033243933663429904448635113800234726353382562831603 pesos\n",
            "El día 262 ahorro 101337161782938510185641104569663089970265542239417741595879917009496296947099731800990289713345905341400704179060147688494809 pesos\n",
            "El día 263 ahorro 304011485348815530556923313708989269910796626718253224787639751028488890841299195402970869140037716024202112537180443065484427 pesos\n",
            "El día 264 ahorro 912034456046446591670769941126967809732389880154759674362919253085466672523897586208912607420113148072606337611541329196453281 pesos\n",
            "El día 265 ahorro 2736103368139339775012309823380903429197169640464279023088757759256400017571692758626737822260339444217819012834623987589359843 pesos\n",
            "El día 266 ahorro 8208310104418019325036929470142710287591508921392837069266273277769200052715078275880213466781018332653457038503871962768079529 pesos\n",
            "El día 267 ahorro 24624930313254057975110788410428130862774526764178511207798819833307600158145234827640640400343054997960371115511615888304238587 pesos\n",
            "El día 268 ahorro 73874790939762173925332365231284392588323580292535533623396459499922800474435704482921921201029164993881113346534847664912715761 pesos\n",
            "El día 269 ahorro 221624372819286521775997095693853177764970740877606600870189378499768401423307113448765763603087494981643340039604542994738147283 pesos\n",
            "El día 270 ahorro 664873118457859565327991287081559533294912222632819802610568135499305204269921340346297290809262484944930020118813628984214441849 pesos\n",
            "El día 271 ahorro 1994619355373578695983973861244678599884736667898459407831704406497915612809764021038891872427787454834790060356440886952643325547 pesos\n",
            "El día 272 ahorro 5983858066120736087951921583734035799654210003695378223495113219493746838429292063116675617283362364504370181069322660857929976641 pesos\n",
            "El día 273 ahorro 17951574198362208263855764751202107398962630011086134670485339658481240515287876189350026851850087093513110543207967982573789929923 pesos\n",
            "El día 274 ahorro 53854722595086624791567294253606322196887890033258404011456018975443721545863628568050080555550261280539331629623903947721369789769 pesos\n",
            "El día 275 ahorro 161564167785259874374701882760818966590663670099775212034368056926331164637590885704150241666650783841617994888871711843164109369307 pesos\n",
            "El día 276 ahorro 484692503355779623124105648282456899771991010299325636103104170778993493912772657112450724999952351524853984666615135529492328107921 pesos\n",
            "El día 277 ahorro 1454077510067338869372316944847370699315973030897976908309312512336980481738317971337352174999857054574561953999845406588476984323763 pesos\n",
            "El día 278 ahorro 4362232530202016608116950834542112097947919092693930724927937537010941445214953914012056524999571163723685861999536219765430952971289 pesos\n",
            "El día 279 ahorro 13086697590606049824350852503626336293843757278081792174783812611032824335644861742036169574998713491171057585998608659296292858913867 pesos\n",
            "El día 280 ahorro 39260092771818149473052557510879008881531271834245376524351437833098473006934585226108508724996140473513172757995825977888878576741601 pesos\n",
            "El día 281 ahorro 117780278315454448419157672532637026644593815502736129573054313499295419020803755678325526174988421420539518273987477933666635730224803 pesos\n",
            "El día 282 ahorro 353340834946363345257473017597911079933781446508208388719162940497886257062411267034976578524965264261618554821962433800999907190674409 pesos\n",
            "El día 283 ahorro 1060022504839090035772419052793733239801344339524625166157488821493658771187233801104929735574895792784855664465887301402999721572023227 pesos\n",
            "El día 284 ahorro 3180067514517270107317257158381199719404033018573875498472466464480976313561701403314789206724687378354566993397661904208999164716069681 pesos\n",
            "El día 285 ahorro 9540202543551810321951771475143599158212099055721626495417399393442928940685104209944367620174062135063700980192985712626997494148209043 pesos\n",
            "El día 286 ahorro 28620607630655430965855314425430797474636297167164879486252198180328786822055312629833102860522186405191102940578957137880992482444627129 pesos\n",
            "El día 287 ahorro 85861822891966292897565943276292392423908891501494638458756594540986360466165937889499308581566559215573308821736871413642977447333881387 pesos\n",
            "El día 288 ahorro 257585468675898878692697829828877177271726674504483915376269783622959081398497813668497925744699677646719926465210614240928932342001644161 pesos\n",
            "El día 289 ahorro 772756406027696636078093489486631531815180023513451746128809350868877244195493441005493777234099032940159779395631842722786797026004932483 pesos\n",
            "El día 290 ahorro 2318269218083089908234280468459894595445540070540355238386428052606631732586480323016481331702297098820479338186895528168360391078014797449 pesos\n",
            "El día 291 ahorro 6954807654249269724702841405379683786336620211621065715159284157819895197759440969049443995106891296461438014560686584505081173234044392347 pesos\n",
            "El día 292 ahorro 20864422962747809174108524216139051359009860634863197145477852473459685593278322907148331985320673889384314043682059753515243519702133177041 pesos\n",
            "El día 293 ahorro 62593268888243427522325572648417154077029581904589591436433557420379056779834968721444995955962021668152942131046179260545730559106399531123 pesos\n",
            "El día 294 ahorro 187779806664730282566976717945251462231088745713768774309300672261137170339504906164334987867886065004458826393138537781637191677319198593369 pesos\n",
            "El día 295 ahorro 563339419994190847700930153835754386693266237141306322927902016783411511018514718493004963603658195013376479179415613344911575031957595780107 pesos\n",
            "El día 296 ahorro 1690018259982572543102790461507263160079798711423918968783706050350234533055544155479014890810974585040129437538246840034734725095872787340321 pesos\n",
            "El día 297 ahorro 5070054779947717629308371384521789480239396134271756906351118151050703599166632466437044672432923755120388312614740520104204175287618362020963 pesos\n",
            "El día 298 ahorro 15210164339843152887925114153565368440718188402815270719053354453152110797499897399311134017298771265361164937844221560312612525862855086062889 pesos\n",
            "El día 299 ahorro 45630493019529458663775342460696105322154565208445812157160063359456332392499692197933402051896313796083494813532664680937837577588565258188667 pesos\n",
            "El día 300 ahorro 136891479058588375991326027382088315966463695625337436471480190078368997177499076593800206155688941388250484440597994042813512732765695774566001 pesos\n",
            "El día 301 ahorro 410674437175765127973978082146264947899391086876012309414440570235106991532497229781400618467066824164751453321793982128440538198297087323698003 pesos\n",
            "El día 302 ahorro 1232023311527295383921934246438794843698173260628036928243321710705320974597491689344201855401200472494254359965381946385321614594891261971094009 pesos\n",
            "El día 303 ahorro 3696069934581886151765802739316384531094519781884110784729965132115962923792475068032605566203601417482763079896145839155964843784673785913282027 pesos\n",
            "El día 304 ahorro 11088209803745658455297408217949153593283559345652332354189895396347888771377425204097816698610804252448289239688437517467894531354021357739846081 pesos\n",
            "El día 305 ahorro 33264629411236975365892224653847460779850678036956997062569686189043666314132275612293450095832412757344867719065312552403683594062064073219538243 pesos\n",
            "El día 306 ahorro 99793888233710926097676673961542382339552034110870991187709058567130998942396826836880350287497238272034603157195937657211050782186192219658614729 pesos\n",
            "El día 307 ahorro 299381664701132778293030021884627147018656102332612973563127175701392996827190480510641050862491714816103809471587812971633152346558576658975844187 pesos\n",
            "El día 308 ahorro 898144994103398334879090065653881441055968306997838920689381527104178990481571441531923152587475144448311428414763438914899457039675729976927532561 pesos\n",
            "El día 309 ahorro 2694434982310195004637270196961644323167904920993516762068144581312536971444714324595769457762425433344934285244290316744698371119027189930782597683 pesos\n",
            "El día 310 ahorro 8083304946930585013911810590884932969503714762980550286204433743937610914334142973787308373287276300034802855732870950234095113357081569792347793049 pesos\n",
            "El día 311 ahorro 24249914840791755041735431772654798908511144288941650858613301231812832743002428921361925119861828900104408567198612850702285340071244709377043379147 pesos\n",
            "El día 312 ahorro 72749744522375265125206295317964396725533432866824952575839903695438498229007286764085775359585486700313225701595838552106856020213734128131130137441 pesos\n",
            "El día 313 ahorro 218249233567125795375618885953893190176600298600474857727519711086315494687021860292257326078756460100939677104787515656320568060641202384393390412323 pesos\n",
            "El día 314 ahorro 654747700701377386126856657861679570529800895801424573182559133258946484061065580876771978236269380302819031314362546968961704181923607153180171236969 pesos\n",
            "El día 315 ahorro 1964243102104132158380569973585038711589402687404273719547677399776839452183196742630315934708808140908457093943087640906885112545770821459540513710907 pesos\n",
            "El día 316 ahorro 5892729306312396475141709920755116134768208062212821158643032199330518356549590227890947804126424422725371281829262922720655337637312464378621541132721 pesos\n",
            "El día 317 ahorro 17678187918937189425425129762265348404304624186638463475929096597991555069648770683672843412379273268176113845487788768161966012911937393135864623398163 pesos\n",
            "El día 318 ahorro 53034563756811568276275389286796045212913872559915390427787289793974665208946312051018530237137819804528341536463366304485898038735812179407593870194489 pesos\n",
            "El día 319 ahorro 159103691270434704828826167860388135638741617679746171283361869381923995626838936153055590711413459413585024609390098913457694116207436538222781610583467 pesos\n",
            "El día 320 ahorro 477311073811304114486478503581164406916224853039238513850085608145771986880516808459166772134240378240755073828170296740373082348622309614668344831750401 pesos\n",
            "El día 321 ahorro 1431933221433912343459435510743493220748674559117715541550256824437315960641550425377500316402721134722265221484510890221119247045866928844005034495251203 pesos\n",
            "El día 322 ahorro 4295799664301737030378306532230479662246023677353146624650770473311947881924651276132500949208163404166795664453532670663357741137600786532015103485753609 pesos\n",
            "El día 323 ahorro 12887398992905211091134919596691438986738071032059439873952311419935843645773953828397502847624490212500386993360598011990073223412802359596045310457260827 pesos\n",
            "El día 324 ahorro 38662196978715633273404758790074316960214213096178319621856934259807530937321861485192508542873470637501160980081794035970219670238407078788135931371782481 pesos\n",
            "El día 325 ahorro 115986590936146899820214276370222950880642639288534958865570802779422592811965584455577525628620411912503482940245382107910659010715221236364407794115347443 pesos\n",
            "El día 326 ahorro 347959772808440699460642829110668852641927917865604876596712408338267778435896753366732576885861235737510448820736146323731977032145663709093223382346042329 pesos\n",
            "El día 327 ahorro 1043879318425322098381928487332006557925783753596814629790137225014803335307690260100197730657583707212531346462208438971195931096436991127279670147038126987 pesos\n",
            "El día 328 ahorro 3131637955275966295145785461996019673777351260790443889370411675044410005923070780300593191972751121637594039386625316913587793289310973381839010441114380961 pesos\n",
            "El día 329 ahorro 9394913865827898885437356385988059021332053782371331668111235025133230017769212340901779575918253364912782118159875950740763379867932920145517031323343142883 pesos\n",
            "El día 330 ahorro 28184741597483696656312069157964177063996161347113995004333705075399690053307637022705338727754760094738346354479627852222290139603798760436551093970029428649 pesos\n",
            "El día 331 ahorro 84554224792451089968936207473892531191988484041341985013001115226199070159922911068116016183264280284215039063438883556666870418811396281309653281910088285947 pesos\n",
            "El día 332 ahorro 253662674377353269906808622421677593575965452124025955039003345678597210479768733204348048549792840852645117190316650670000611256434188843928959845730264857841 pesos\n",
            "El día 333 ahorro 760988023132059809720425867265032780727896356372077865117010037035791631439306199613044145649378522557935351570949952010001833769302566531786879537190794573523 pesos\n",
            "El día 334 ahorro 2282964069396179429161277601795098342183689069116233595351030111107374894317918598839132436948135567673806054712849856030005501307907699595360638611572383720569 pesos\n",
            "El día 335 ahorro 6848892208188538287483832805385295026551067207348700786053090333322124682953755796517397310844406703021418164138549568090016503923723098786081915834717151161707 pesos\n",
            "El día 336 ahorro 20546676624565614862451498416155885079653201622046102358159270999966374048861267389552191932533220109064254492415648704270049511771169296358245747504151453485121 pesos\n",
            "El día 337 ahorro 61640029873696844587354495248467655238959604866138307074477812999899122146583802168656575797599660327192763477246946112810148535313507889074737242512454360455363 pesos\n",
            "El día 338 ahorro 184920089621090533762063485745402965716878814598414921223433438999697366439751406505969727392798980981578290431740838338430445605940523667224211727537363081366089 pesos\n",
            "El día 339 ahorro 554760268863271601286190457236208897150636443795244763670300316999092099319254219517909182178396942944734871295222515015291336817821571001672635182612089244098267 pesos\n",
            "El día 340 ahorro 1664280806589814803858571371708626691451909331385734291010900950997276297957762658553727546535190828834204613885667545045874010453464713005017905547836267732294801 pesos\n",
            "El día 341 ahorro 4992842419769444411575714115125880074355727994157202873032702852991828893873287975661182639605572486502613841657002635137622031360394139015053716643508803196884403 pesos\n",
            "El día 342 ahorro 14978527259308333234727142345377640223067183982471608619098108558975486681619863926983547918816717459507841524971007905412866094081182417045161149930526409590653209 pesos\n",
            "El día 343 ahorro 44935581777924999704181427036132920669201551947414825857294325676926460044859591780950643756450152378523524574913023716238598282243547251135483449791579228771959627 pesos\n",
            "El día 344 ahorro 134806745333774999112544281108398762007604655842244477571882977030779380134578775342851931269350457135570573724739071148715794846730641753406450349374737686315878881 pesos\n",
            "El día 345 ahorro 404420236001324997337632843325196286022813967526733432715648931092338140403736326028555793808051371406711721174217213446147384540191925260219351048124213058947636643 pesos\n",
            "El día 346 ahorro 1213260708003974992012898529975588858068441902580200298146946793277014421211208978085667381424154114220135163522651640338442153620575775780658053144372639176842909929 pesos\n",
            "El día 347 ahorro 3639782124011924976038695589926766574205325707740600894440840379831043263633626934257002144272462342660405490567954921015326460861727327341974159433117917530528729787 pesos\n",
            "El día 348 ahorro 10919346372035774928116086769780299722615977123221802683322521139493129790900880802771006432817387027981216471703864763045979382585181982025922478299353752591586189361 pesos\n",
            "El día 349 ahorro 32758039116107324784348260309340899167847931369665408049967563418479389372702642408313019298452161083943649415111594289137938147755545946077767434898061257774758568083 pesos\n",
            "El día 350 ahorro 98274117348321974353044780928022697503543794108996224149902690255438168118107927224939057895356483251830948245334782867413814443266637838233302304694183773324275704249 pesos\n",
            "El día 351 ahorro 294822352044965923059134342784068092510631382326988672449708070766314504354323781674817173686069449755492844736004348602241443329799913514699906914082551319972827112747 pesos\n",
            "El día 352 ahorro 884467056134897769177403028352204277531894146980966017349124212298943513062971345024451521058208349266478534208013045806724329989399740544099720742247653959918481338241 pesos\n",
            "El día 353 ahorro 2653401168404693307532209085056612832595682440942898052047372636896830539188914035073354563174625047799435602624039137420172989968199221632299162226742961879755444014723 pesos\n",
            "El día 354 ahorro 7960203505214079922596627255169838497787047322828694156142117910690491617566742105220063689523875143398306807872117412260518969904597664896897486680228885639266332044169 pesos\n",
            "El día 355 ahorro 23880610515642239767789881765509515493361141968486082468426353732071474852700226315660191068571625430194920423616352236781556909713792994690692460040686656917798996132507 pesos\n",
            "El día 356 ahorro 71641831546926719303369645296528546480083425905458247405279061196214424558100678946980573205714876290584761270849056710344670729141378984072077380122059970753396988397521 pesos\n",
            "El día 357 ahorro 214925494640780157910108935889585639440250277716374742215837183588643273674302036840941719617144628871754283812547170131034012187424136952216232140366179912260190965192563 pesos\n",
            "El día 358 ahorro 644776483922340473730326807668756918320750833149124226647511550765929821022906110522825158851433886615262851437641510393102036562272410856648696421098539736780572895577689 pesos\n",
            "El día 359 ahorro 1934329451767021421190980423006270754962252499447372679942534652297789463068718331568475476554301659845788554312924531179306109686817232569946089263295619210341718686733067 pesos\n",
            "El día 360 ahorro 5802988355301064263572941269018812264886757498342118039827603956893368389206154994705426429662904979537365662938773593537918329060451697709838267789886857631025156060199201 pesos\n",
            "El día 361 ahorro 17408965065903192790718823807056436794660272495026354119482811870680105167618464984116279288988714938612096988816320780613754987181355093129514803369660572893075468180597603 pesos\n",
            "El día 362 ahorro 52226895197709578372156471421169310383980817485079062358448435612040315502855394952348837866966144815836290966448962341841264961544065279388544410108981718679226404541792809 pesos\n",
            "El día 363 ahorro 156680685593128735116469414263507931151942452455237187075345306836120946508566184857046513600898434447508872899346887025523794884632195838165633230326945156037679213625378427 pesos\n",
            "El día 364 ahorro 470042056779386205349408242790523793455827357365711561226035920508362839525698554571139540802695303342526618698040661076571384653896587514496899690980835468113037640876135281 pesos\n",
            "El día 365 ahorro 1410126170338158616048224728371571380367482072097134683678107761525088518577095663713418622408085910027579856094121983229714153961689762543490699072942506404339112922628405843 pesos\n"
          ]
        }
      ]
    }
  ]
}